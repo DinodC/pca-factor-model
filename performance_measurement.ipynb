{
 "cells": [
  {
   "cell_type": "markdown",
   "metadata": {},
   "source": [
    "# Performance Mesurement"
   ]
  },
  {
   "cell_type": "markdown",
   "metadata": {},
   "source": [
    "Import packages"
   ]
  },
  {
   "cell_type": "code",
   "execution_count": 1,
   "metadata": {},
   "outputs": [],
   "source": [
    "import numpy as np"
   ]
  },
  {
   "cell_type": "code",
   "execution_count": 2,
   "metadata": {},
   "outputs": [],
   "source": [
    "import pandas as pd"
   ]
  },
  {
   "cell_type": "code",
   "execution_count": 3,
   "metadata": {},
   "outputs": [],
   "source": [
    "from pandas import Series, DataFrame"
   ]
  },
  {
   "cell_type": "code",
   "execution_count": 4,
   "metadata": {},
   "outputs": [],
   "source": [
    "import datetime"
   ]
  },
  {
   "cell_type": "code",
   "execution_count": 5,
   "metadata": {},
   "outputs": [],
   "source": [
    "import pandas_datareader.data as web"
   ]
  },
  {
   "cell_type": "code",
   "execution_count": 6,
   "metadata": {},
   "outputs": [],
   "source": [
    "import matplotlib.pyplot as plt"
   ]
  },
  {
   "cell_type": "code",
   "execution_count": 7,
   "metadata": {},
   "outputs": [],
   "source": [
    "%matplotlib inline"
   ]
  },
  {
   "cell_type": "markdown",
   "metadata": {},
   "source": [
    "To do: improve plot\n",
    "- increase size\n",
    "- include arrows and text"
   ]
  },
  {
   "cell_type": "markdown",
   "metadata": {},
   "source": [
    "## Get Financial Data"
   ]
  },
  {
   "cell_type": "markdown",
   "metadata": {},
   "source": [
    "Set parameters"
   ]
  },
  {
   "cell_type": "code",
   "execution_count": 8,
   "metadata": {},
   "outputs": [],
   "source": [
    "key = 'AAPL'"
   ]
  },
  {
   "cell_type": "code",
   "execution_count": 9,
   "metadata": {},
   "outputs": [],
   "source": [
    "source = 'iex'"
   ]
  },
  {
   "cell_type": "code",
   "execution_count": 10,
   "metadata": {},
   "outputs": [],
   "source": [
    "start = datetime.datetime(2016, 1, 1)"
   ]
  },
  {
   "cell_type": "code",
   "execution_count": 11,
   "metadata": {},
   "outputs": [],
   "source": [
    "end = datetime.datetime(2019, 1, 1)"
   ]
  },
  {
   "cell_type": "markdown",
   "metadata": {},
   "source": [
    "Financial data"
   ]
  },
  {
   "cell_type": "code",
   "execution_count": 12,
   "metadata": {},
   "outputs": [],
   "source": [
    "data = web.DataReader(key, source, start, end)"
   ]
  },
  {
   "cell_type": "code",
   "execution_count": 13,
   "metadata": {},
   "outputs": [
    {
     "data": {
      "text/html": [
       "<div>\n",
       "<style scoped>\n",
       "    .dataframe tbody tr th:only-of-type {\n",
       "        vertical-align: middle;\n",
       "    }\n",
       "\n",
       "    .dataframe tbody tr th {\n",
       "        vertical-align: top;\n",
       "    }\n",
       "\n",
       "    .dataframe thead th {\n",
       "        text-align: right;\n",
       "    }\n",
       "</style>\n",
       "<table border=\"1\" class=\"dataframe\">\n",
       "  <thead>\n",
       "    <tr style=\"text-align: right;\">\n",
       "      <th></th>\n",
       "      <th>open</th>\n",
       "      <th>high</th>\n",
       "      <th>low</th>\n",
       "      <th>close</th>\n",
       "      <th>volume</th>\n",
       "    </tr>\n",
       "    <tr>\n",
       "      <th>date</th>\n",
       "      <th></th>\n",
       "      <th></th>\n",
       "      <th></th>\n",
       "      <th></th>\n",
       "      <th></th>\n",
       "    </tr>\n",
       "  </thead>\n",
       "  <tbody>\n",
       "    <tr>\n",
       "      <th>2016-01-04</th>\n",
       "      <td>96.9111</td>\n",
       "      <td>99.5159</td>\n",
       "      <td>96.3350</td>\n",
       "      <td>99.4989</td>\n",
       "      <td>67649387</td>\n",
       "    </tr>\n",
       "    <tr>\n",
       "      <th>2016-01-05</th>\n",
       "      <td>99.8767</td>\n",
       "      <td>99.9711</td>\n",
       "      <td>96.7222</td>\n",
       "      <td>97.0055</td>\n",
       "      <td>55790992</td>\n",
       "    </tr>\n",
       "    <tr>\n",
       "      <th>2016-01-06</th>\n",
       "      <td>94.9749</td>\n",
       "      <td>96.6844</td>\n",
       "      <td>94.3233</td>\n",
       "      <td>95.1072</td>\n",
       "      <td>68457388</td>\n",
       "    </tr>\n",
       "    <tr>\n",
       "      <th>2016-01-07</th>\n",
       "      <td>93.1993</td>\n",
       "      <td>94.5688</td>\n",
       "      <td>91.0743</td>\n",
       "      <td>91.0932</td>\n",
       "      <td>81094428</td>\n",
       "    </tr>\n",
       "    <tr>\n",
       "      <th>2016-01-08</th>\n",
       "      <td>93.0766</td>\n",
       "      <td>93.6055</td>\n",
       "      <td>91.3860</td>\n",
       "      <td>91.5749</td>\n",
       "      <td>70798016</td>\n",
       "    </tr>\n",
       "    <tr>\n",
       "      <th>2016-01-11</th>\n",
       "      <td>93.4732</td>\n",
       "      <td>93.5582</td>\n",
       "      <td>91.9338</td>\n",
       "      <td>93.0577</td>\n",
       "      <td>49739377</td>\n",
       "    </tr>\n",
       "    <tr>\n",
       "      <th>2016-01-12</th>\n",
       "      <td>94.9655</td>\n",
       "      <td>95.0977</td>\n",
       "      <td>93.3504</td>\n",
       "      <td>94.4083</td>\n",
       "      <td>49154227</td>\n",
       "    </tr>\n",
       "    <tr>\n",
       "      <th>2016-01-13</th>\n",
       "      <td>94.7483</td>\n",
       "      <td>95.5699</td>\n",
       "      <td>91.8960</td>\n",
       "      <td>91.9810</td>\n",
       "      <td>62439631</td>\n",
       "    </tr>\n",
       "    <tr>\n",
       "      <th>2016-01-14</th>\n",
       "      <td>92.5193</td>\n",
       "      <td>94.8994</td>\n",
       "      <td>90.4226</td>\n",
       "      <td>93.9927</td>\n",
       "      <td>63170127</td>\n",
       "    </tr>\n",
       "    <tr>\n",
       "      <th>2016-01-15</th>\n",
       "      <td>90.8571</td>\n",
       "      <td>92.2832</td>\n",
       "      <td>90.0637</td>\n",
       "      <td>91.7354</td>\n",
       "      <td>79833891</td>\n",
       "    </tr>\n",
       "  </tbody>\n",
       "</table>\n",
       "</div>"
      ],
      "text/plain": [
       "               open     high      low    close    volume\n",
       "date                                                    \n",
       "2016-01-04  96.9111  99.5159  96.3350  99.4989  67649387\n",
       "2016-01-05  99.8767  99.9711  96.7222  97.0055  55790992\n",
       "2016-01-06  94.9749  96.6844  94.3233  95.1072  68457388\n",
       "2016-01-07  93.1993  94.5688  91.0743  91.0932  81094428\n",
       "2016-01-08  93.0766  93.6055  91.3860  91.5749  70798016\n",
       "2016-01-11  93.4732  93.5582  91.9338  93.0577  49739377\n",
       "2016-01-12  94.9655  95.0977  93.3504  94.4083  49154227\n",
       "2016-01-13  94.7483  95.5699  91.8960  91.9810  62439631\n",
       "2016-01-14  92.5193  94.8994  90.4226  93.9927  63170127\n",
       "2016-01-15  90.8571  92.2832  90.0637  91.7354  79833891"
      ]
     },
     "execution_count": 13,
     "metadata": {},
     "output_type": "execute_result"
    }
   ],
   "source": [
    "data.head(10)"
   ]
  },
  {
   "cell_type": "markdown",
   "metadata": {},
   "source": [
    "Convert index to datetime"
   ]
  },
  {
   "cell_type": "code",
   "execution_count": 14,
   "metadata": {},
   "outputs": [],
   "source": [
    "data.index = pd.to_datetime(data.index)"
   ]
  },
  {
   "cell_type": "code",
   "execution_count": 15,
   "metadata": {},
   "outputs": [
    {
     "data": {
      "text/plain": [
       "<matplotlib.axes._subplots.AxesSubplot at 0x1189bcb70>"
      ]
     },
     "execution_count": 15,
     "metadata": {},
     "output_type": "execute_result"
    },
    {
     "data": {
      "image/png": "[encoded data removed]",
      "text/plain": [
       "<Figure size 432x288 with 1 Axes>"
      ]
     },
     "metadata": {
      "needs_background": "light"
     },
     "output_type": "display_data"
    }
   ],
   "source": [
    "data.close.plot()"
   ]
  },
  {
   "cell_type": "markdown",
   "metadata": {},
   "source": [
    "## Calculate the Sharpe Ratio"
   ]
  },
  {
   "cell_type": "markdown",
   "metadata": {},
   "source": [
    "### Strategy 1: Buy-and-Hold Long Only\n",
    "- buy the stock on 4th of Jan 2016\n",
    "- sell the stock on the close of 31st Dec 2018"
   ]
  },
  {
   "cell_type": "markdown",
   "metadata": {},
   "source": [
    "Calculate daily returns"
   ]
  },
  {
   "cell_type": "code",
   "execution_count": 16,
   "metadata": {},
   "outputs": [],
   "source": [
    "close = data.close"
   ]
  },
  {
   "cell_type": "code",
   "execution_count": 17,
   "metadata": {},
   "outputs": [],
   "source": [
    "returns = close.pct_change()"
   ]
  },
  {
   "cell_type": "code",
   "execution_count": 18,
   "metadata": {},
   "outputs": [
    {
     "data": {
      "text/plain": [
       "date\n",
       "2016-01-04         NaN\n",
       "2016-01-05   -0.025060\n",
       "2016-01-06   -0.019569\n",
       "2016-01-07   -0.042205\n",
       "2016-01-08    0.005288\n",
       "2016-01-11    0.016192\n",
       "2016-01-12    0.014514\n",
       "2016-01-13   -0.025711\n",
       "2016-01-14    0.021871\n",
       "2016-01-15   -0.024016\n",
       "Name: close, dtype: float64"
      ]
     },
     "execution_count": 18,
     "metadata": {},
     "output_type": "execute_result"
    }
   ],
   "source": [
    "returns.head(10)"
   ]
  },
  {
   "cell_type": "markdown",
   "metadata": {},
   "source": [
    "Calculate daily excess returns assuming:\n",
    "- risk-free rate is 2.5% per year\n",
    "- 252 trading days a year"
   ]
  },
  {
   "cell_type": "markdown",
   "metadata": {},
   "source": [
    "Note that we are subtracting the risk-free due financing costs "
   ]
  },
  {
   "cell_type": "code",
   "execution_count": 19,
   "metadata": {},
   "outputs": [],
   "source": [
    "risk_free_rate = 0.025"
   ]
  },
  {
   "cell_type": "code",
   "execution_count": 20,
   "metadata": {},
   "outputs": [],
   "source": [
    "trading_days = 252"
   ]
  },
  {
   "cell_type": "markdown",
   "metadata": {},
   "source": [
    "Don't forget to convert yearly risk-free rate to daily risk-free rate"
   ]
  },
  {
   "cell_type": "code",
   "execution_count": 21,
   "metadata": {},
   "outputs": [],
   "source": [
    "excess_returns = returns - risk_free_rate / trading_days"
   ]
  },
  {
   "cell_type": "code",
   "execution_count": 22,
   "metadata": {},
   "outputs": [
    {
     "data": {
      "text/plain": [
       "date\n",
       "2016-01-04         NaN\n",
       "2016-01-05   -0.025159\n",
       "2016-01-06   -0.019668\n",
       "2016-01-07   -0.042304\n",
       "2016-01-08    0.005189\n",
       "2016-01-11    0.016093\n",
       "2016-01-12    0.014414\n",
       "2016-01-13   -0.025810\n",
       "2016-01-14    0.021772\n",
       "2016-01-15   -0.024115\n",
       "Name: close, dtype: float64"
      ]
     },
     "execution_count": 22,
     "metadata": {},
     "output_type": "execute_result"
    }
   ],
   "source": [
    "excess_returns.head(10)"
   ]
  },
  {
   "cell_type": "markdown",
   "metadata": {},
   "source": [
    "Calculate Sharpe ratio (annualized)\n",
    "- average and standard deviation of daily excess returns\n",
    "- convert to daily Sharpe ratio to yearly by multiplying by `np.sqrt(252)`"
   ]
  },
  {
   "cell_type": "code",
   "execution_count": 23,
   "metadata": {},
   "outputs": [],
   "source": [
    "sharpe_ratio = np.sqrt(252) * np.mean(excess_returns) / np.std(excess_returns)"
   ]
  },
  {
   "cell_type": "code",
   "execution_count": 24,
   "metadata": {
    "scrolled": true
   },
   "outputs": [
    {
     "data": {
      "text/plain": [
       "0.655779255508552"
      ]
     },
     "execution_count": 24,
     "metadata": {},
     "output_type": "execute_result"
    }
   ],
   "source": [
    "sharpe_ratio"
   ]
  },
  {
   "cell_type": "markdown",
   "metadata": {},
   "source": [
    "### Strategy 2: Buy-and-Hold Market-Neutral Strategy\n",
    "- buy AAPL and short SPY on the 4th of Jan 2016\n",
    "- close the position on the 31st of Dec 2018"
   ]
  },
  {
   "cell_type": "markdown",
   "metadata": {},
   "source": [
    "Get data for SPY"
   ]
  },
  {
   "cell_type": "code",
   "execution_count": 25,
   "metadata": {},
   "outputs": [],
   "source": [
    "key = 'SPY'"
   ]
  },
  {
   "cell_type": "code",
   "execution_count": 26,
   "metadata": {},
   "outputs": [],
   "source": [
    "data = web.DataReader(key, source, start, end)"
   ]
  },
  {
   "cell_type": "code",
   "execution_count": 27,
   "metadata": {},
   "outputs": [
    {
     "data": {
      "text/html": [
       "<div>\n",
       "<style scoped>\n",
       "    .dataframe tbody tr th:only-of-type {\n",
       "        vertical-align: middle;\n",
       "    }\n",
       "\n",
       "    .dataframe tbody tr th {\n",
       "        vertical-align: top;\n",
       "    }\n",
       "\n",
       "    .dataframe thead th {\n",
       "        text-align: right;\n",
       "    }\n",
       "</style>\n",
       "<table border=\"1\" class=\"dataframe\">\n",
       "  <thead>\n",
       "    <tr style=\"text-align: right;\">\n",
       "      <th></th>\n",
       "      <th>open</th>\n",
       "      <th>high</th>\n",
       "      <th>low</th>\n",
       "      <th>close</th>\n",
       "      <th>volume</th>\n",
       "    </tr>\n",
       "    <tr>\n",
       "      <th>date</th>\n",
       "      <th></th>\n",
       "      <th></th>\n",
       "      <th></th>\n",
       "      <th></th>\n",
       "      <th></th>\n",
       "    </tr>\n",
       "  </thead>\n",
       "  <tbody>\n",
       "    <tr>\n",
       "      <th>2016-01-04</th>\n",
       "      <td>188.1247</td>\n",
       "      <td>188.6314</td>\n",
       "      <td>186.3419</td>\n",
       "      <td>188.6212</td>\n",
       "      <td>222353534</td>\n",
       "    </tr>\n",
       "    <tr>\n",
       "      <th>2016-01-05</th>\n",
       "      <td>188.9786</td>\n",
       "      <td>189.4477</td>\n",
       "      <td>187.7118</td>\n",
       "      <td>188.9410</td>\n",
       "      <td>110845849</td>\n",
       "    </tr>\n",
       "    <tr>\n",
       "      <th>2016-01-06</th>\n",
       "      <td>186.1073</td>\n",
       "      <td>187.7212</td>\n",
       "      <td>185.4129</td>\n",
       "      <td>186.5577</td>\n",
       "      <td>152112604</td>\n",
       "    </tr>\n",
       "    <tr>\n",
       "      <th>2016-01-07</th>\n",
       "      <td>183.2829</td>\n",
       "      <td>185.2628</td>\n",
       "      <td>181.6502</td>\n",
       "      <td>182.0819</td>\n",
       "      <td>213436073</td>\n",
       "    </tr>\n",
       "    <tr>\n",
       "      <th>2016-01-08</th>\n",
       "      <td>183.1516</td>\n",
       "      <td>183.7709</td>\n",
       "      <td>179.7642</td>\n",
       "      <td>180.0861</td>\n",
       "      <td>209817228</td>\n",
       "    </tr>\n",
       "    <tr>\n",
       "      <th>2016-01-11</th>\n",
       "      <td>181.1060</td>\n",
       "      <td>181.4813</td>\n",
       "      <td>178.1128</td>\n",
       "      <td>180.2615</td>\n",
       "      <td>187941323</td>\n",
       "    </tr>\n",
       "    <tr>\n",
       "      <th>2016-01-12</th>\n",
       "      <td>181.8661</td>\n",
       "      <td>182.5510</td>\n",
       "      <td>179.3513</td>\n",
       "      <td>181.7167</td>\n",
       "      <td>172330490</td>\n",
       "    </tr>\n",
       "    <tr>\n",
       "      <th>2016-01-13</th>\n",
       "      <td>182.4572</td>\n",
       "      <td>182.8419</td>\n",
       "      <td>176.7616</td>\n",
       "      <td>177.1838</td>\n",
       "      <td>221168886</td>\n",
       "    </tr>\n",
       "    <tr>\n",
       "      <th>2016-01-14</th>\n",
       "      <td>177.8594</td>\n",
       "      <td>181.3406</td>\n",
       "      <td>176.0860</td>\n",
       "      <td>180.0926</td>\n",
       "      <td>240795609</td>\n",
       "    </tr>\n",
       "    <tr>\n",
       "      <th>2016-01-15</th>\n",
       "      <td>175.2509</td>\n",
       "      <td>177.1181</td>\n",
       "      <td>174.0780</td>\n",
       "      <td>176.2267</td>\n",
       "      <td>324846447</td>\n",
       "    </tr>\n",
       "  </tbody>\n",
       "</table>\n",
       "</div>"
      ],
      "text/plain": [
       "                open      high       low     close     volume\n",
       "date                                                         \n",
       "2016-01-04  188.1247  188.6314  186.3419  188.6212  222353534\n",
       "2016-01-05  188.9786  189.4477  187.7118  188.9410  110845849\n",
       "2016-01-06  186.1073  187.7212  185.4129  186.5577  152112604\n",
       "2016-01-07  183.2829  185.2628  181.6502  182.0819  213436073\n",
       "2016-01-08  183.1516  183.7709  179.7642  180.0861  209817228\n",
       "2016-01-11  181.1060  181.4813  178.1128  180.2615  187941323\n",
       "2016-01-12  181.8661  182.5510  179.3513  181.7167  172330490\n",
       "2016-01-13  182.4572  182.8419  176.7616  177.1838  221168886\n",
       "2016-01-14  177.8594  181.3406  176.0860  180.0926  240795609\n",
       "2016-01-15  175.2509  177.1181  174.0780  176.2267  324846447"
      ]
     },
     "execution_count": 27,
     "metadata": {},
     "output_type": "execute_result"
    }
   ],
   "source": [
    "data.head(10)"
   ]
  },
  {
   "cell_type": "code",
   "execution_count": 28,
   "metadata": {},
   "outputs": [],
   "source": [
    "data.index = pd.to_datetime(data.index)"
   ]
  },
  {
   "cell_type": "code",
   "execution_count": 29,
   "metadata": {},
   "outputs": [],
   "source": [
    "spy_close = data.close"
   ]
  },
  {
   "cell_type": "markdown",
   "metadata": {},
   "source": [
    "Calculate daily returns"
   ]
  },
  {
   "cell_type": "code",
   "execution_count": 30,
   "metadata": {},
   "outputs": [],
   "source": [
    "spy_returns = spy_close.pct_change()"
   ]
  },
  {
   "cell_type": "code",
   "execution_count": 31,
   "metadata": {
    "scrolled": true
   },
   "outputs": [
    {
     "data": {
      "text/plain": [
       "date\n",
       "2016-01-04         NaN\n",
       "2016-01-05    0.001695\n",
       "2016-01-06   -0.012614\n",
       "2016-01-07   -0.023992\n",
       "2016-01-08   -0.010961\n",
       "2016-01-11    0.000974\n",
       "2016-01-12    0.008073\n",
       "2016-01-13   -0.024945\n",
       "2016-01-14    0.016417\n",
       "2016-01-15   -0.021466\n",
       "Name: close, dtype: float64"
      ]
     },
     "execution_count": 31,
     "metadata": {},
     "output_type": "execute_result"
    }
   ],
   "source": [
    "spy_returns.head(10)"
   ]
  },
  {
   "cell_type": "markdown",
   "metadata": {},
   "source": [
    "Calculate the daily net return of the portfolio which is long AAPL and short SPY"
   ]
  },
  {
   "cell_type": "code",
   "execution_count": 32,
   "metadata": {},
   "outputs": [],
   "source": [
    "net_returns = (returns - spy_returns) / 2"
   ]
  },
  {
   "cell_type": "code",
   "execution_count": 33,
   "metadata": {},
   "outputs": [
    {
     "data": {
      "text/plain": [
       "date\n",
       "2016-01-04         NaN\n",
       "2016-01-05   -0.013378\n",
       "2016-01-06   -0.003478\n",
       "2016-01-07   -0.009107\n",
       "2016-01-08    0.008124\n",
       "2016-01-11    0.007609\n",
       "2016-01-12    0.003220\n",
       "2016-01-13   -0.000383\n",
       "2016-01-14    0.002727\n",
       "2016-01-15   -0.001275\n",
       "Name: close, dtype: float64"
      ]
     },
     "execution_count": 33,
     "metadata": {},
     "output_type": "execute_result"
    }
   ],
   "source": [
    "net_returns.head(10)"
   ]
  },
  {
   "cell_type": "markdown",
   "metadata": {},
   "source": [
    "Note that we don't need to substract the risk-free rate because our strategy is self-financing:\n",
    "- to calculate the Sharpe ratio, we have `net_returns - risk_free_rate`\n",
    "- however, since our short position provided us cash which grows at the same rate `net_return - risk_free_rate + risk_free_rate"
   ]
  },
  {
   "cell_type": "markdown",
   "metadata": {},
   "source": [
    "Calculate Sharpe ratio (annualized)\n",
    "- average and standard deviation of daily excess returns\n",
    "- convert to daily Sharpe ratio to yearly by multiplying by `np.sqrt(252)`"
   ]
  },
  {
   "cell_type": "code",
   "execution_count": 34,
   "metadata": {},
   "outputs": [],
   "source": [
    "sharpe_Ratio = np.sqrt(trading_days) * np.mean(net_returns) / np.std(net_returns)"
   ]
  },
  {
   "cell_type": "code",
   "execution_count": 35,
   "metadata": {},
   "outputs": [
    {
     "data": {
      "text/plain": [
       "0.437391016896497"
      ]
     },
     "execution_count": 35,
     "metadata": {},
     "output_type": "execute_result"
    }
   ],
   "source": [
    "sharpe_Ratio"
   ]
  },
  {
   "cell_type": "markdown",
   "metadata": {},
   "source": [
    "## Calculate the Maximum Drawdown and Maximum Drawdown Duration"
   ]
  },
  {
   "cell_type": "markdown",
   "metadata": {},
   "source": [
    "### Function `calculate_maxdd`"
   ]
  },
  {
   "cell_type": "markdown",
   "metadata": {},
   "source": [
    "Create function for calculating maximum drawdown and maximum drawdown duration"
   ]
  },
  {
   "cell_type": "code",
   "execution_count": 36,
   "metadata": {},
   "outputs": [],
   "source": [
    "def calculate_maxdd(cum_returns):\n",
    "    \n",
    "    # Initialize high watermark to zero\n",
    "    high_watermark = pd.Series(np.zeros(len(cum_returns)), index=cum_returns.index)\n",
    "    \n",
    "    # Initialize drawdowns to zero\n",
    "    drawdown = pd.Series(np.zeros(len(cum_returns)), index=cum_returns.index)\n",
    "    \n",
    "    # Initialize drawdown duration to zero\n",
    "    drawdown_duration = pd.Series(np.zeros(len(cum_returns)), index=cum_returns.index)\n",
    "    \n",
    "    for i in range(len(cum_returns)):\n",
    "        if i == 0:\n",
    "            pass\n",
    "        else:\n",
    "            # High watermark\n",
    "            high_watermark.iloc[i] = np.max([cum_returns.iloc[i], high_watermark.iloc[i-1]])\n",
    "            # Drawdown\n",
    "            drawdown.iloc[i] = (1 + high_watermark.iloc[i]) / (1 + cum_returns.iloc[i]) - 1\n",
    "            # Drawdown duration\n",
    "            if drawdown.iloc[i] == 0:\n",
    "                drawdown_duration.iloc[i] = 0\n",
    "            else:\n",
    "                drawdown_duration.iloc[i] = drawdown_duration.iloc[i-1] + 1\n",
    "    \n",
    "    # max_dd and max_ddd are maximum drawdown (in %) and maximum drawdown duration (in days), respectively\n",
    "    max_dd = np.max(drawdown)\n",
    "    max_ddd = np.max(drawdown_duration)\n",
    "    \n",
    "    return max_dd, max_ddd"
   ]
  },
  {
   "cell_type": "markdown",
   "metadata": {},
   "source": [
    "### Strategy 1: Buy-and-Hold Long Only"
   ]
  },
  {
   "cell_type": "code",
   "execution_count": 37,
   "metadata": {},
   "outputs": [],
   "source": [
    "cumulative_returns = np.cumprod(1 + excess_returns) - 1"
   ]
  },
  {
   "cell_type": "code",
   "execution_count": 38,
   "metadata": {},
   "outputs": [
    {
     "data": {
      "text/plain": [
       "date\n",
       "2016-01-04         NaN\n",
       "2016-01-05   -0.025159\n",
       "2016-01-06   -0.044332\n",
       "2016-01-07   -0.084761\n",
       "2016-01-08   -0.080012\n",
       "2016-01-11   -0.065207\n",
       "2016-01-12   -0.051732\n",
       "2016-01-13   -0.076207\n",
       "2016-01-14   -0.056094\n",
       "2016-01-15   -0.078857\n",
       "Name: close, dtype: float64"
      ]
     },
     "execution_count": 38,
     "metadata": {},
     "output_type": "execute_result"
    }
   ],
   "source": [
    "cumulative_returns.head(10)"
   ]
  },
  {
   "cell_type": "code",
   "execution_count": 39,
   "metadata": {},
   "outputs": [
    {
     "data": {
      "text/plain": [
       "<matplotlib.axes._subplots.AxesSubplot at 0x1196f46d8>"
      ]
     },
     "execution_count": 39,
     "metadata": {},
     "output_type": "execute_result"
    },
    {
     "data": {
      "image/png": "[encoded data removed]",
      "text/plain": [
       "<Figure size 432x288 with 1 Axes>"
      ]
     },
     "metadata": {
      "needs_background": "light"
     },
     "output_type": "display_data"
    }
   ],
   "source": [
    "cumulative_returns.plot()"
   ]
  },
  {
   "cell_type": "code",
   "execution_count": 40,
   "metadata": {},
   "outputs": [],
   "source": [
    "a, b = calculate_maxdd(cumulative_returns)"
   ]
  },
  {
   "cell_type": "markdown",
   "metadata": {},
   "source": [
    "The maximum drawdown in %"
   ]
  },
  {
   "cell_type": "code",
   "execution_count": 41,
   "metadata": {},
   "outputs": [
    {
     "data": {
      "text/plain": [
       "0.5838892357744825"
      ]
     },
     "execution_count": 41,
     "metadata": {},
     "output_type": "execute_result"
    }
   ],
   "source": [
    "a"
   ]
  },
  {
   "cell_type": "markdown",
   "metadata": {},
   "source": [
    "While the maximum drawdown duration in days"
   ]
  },
  {
   "cell_type": "code",
   "execution_count": 42,
   "metadata": {},
   "outputs": [
    {
     "data": {
      "text/plain": [
       "106.0"
      ]
     },
     "execution_count": 42,
     "metadata": {},
     "output_type": "execute_result"
    }
   ],
   "source": [
    "b"
   ]
  },
  {
   "cell_type": "markdown",
   "metadata": {},
   "source": [
    "### Strategy 2: Buy-and-Hold Market-Neutral"
   ]
  },
  {
   "cell_type": "markdown",
   "metadata": {},
   "source": [
    "Calculate cumulative compounded returns"
   ]
  },
  {
   "cell_type": "code",
   "execution_count": 43,
   "metadata": {},
   "outputs": [],
   "source": [
    "cumulative_returns = np.cumprod(1 + net_returns) - 1"
   ]
  },
  {
   "cell_type": "code",
   "execution_count": 44,
   "metadata": {},
   "outputs": [
    {
     "data": {
      "text/plain": [
       "date\n",
       "2016-01-04         NaN\n",
       "2016-01-05   -0.013378\n",
       "2016-01-06   -0.016808\n",
       "2016-01-07   -0.025762\n",
       "2016-01-08   -0.017847\n",
       "2016-01-11   -0.010374\n",
       "2016-01-12   -0.007187\n",
       "2016-01-13   -0.007567\n",
       "2016-01-14   -0.004860\n",
       "2016-01-15   -0.006129\n",
       "Name: close, dtype: float64"
      ]
     },
     "execution_count": 44,
     "metadata": {},
     "output_type": "execute_result"
    }
   ],
   "source": [
    "cumulative_returns.head(10)"
   ]
  },
  {
   "cell_type": "code",
   "execution_count": 45,
   "metadata": {},
   "outputs": [
    {
     "data": {
      "text/plain": [
       "<matplotlib.axes._subplots.AxesSubplot at 0x1197384a8>"
      ]
     },
     "execution_count": 45,
     "metadata": {},
     "output_type": "execute_result"
    },
    {
     "data": {
      "image/png": "[encoded data removed]",
      "text/plain": [
       "<Figure size 432x288 with 1 Axes>"
      ]
     },
     "metadata": {
      "needs_background": "light"
     },
     "output_type": "display_data"
    }
   ],
   "source": [
    "cumulative_returns.plot()"
   ]
  },
  {
   "cell_type": "code",
   "execution_count": 46,
   "metadata": {},
   "outputs": [],
   "source": [
    "a, b = calculate_maxdd(cumulative_returns)"
   ]
  },
  {
   "cell_type": "markdown",
   "metadata": {},
   "source": [
    "The maximum drawdown in %"
   ]
  },
  {
   "cell_type": "code",
   "execution_count": 47,
   "metadata": {},
   "outputs": [
    {
     "data": {
      "text/plain": [
       "0.1378978856468498"
      ]
     },
     "execution_count": 47,
     "metadata": {},
     "output_type": "execute_result"
    }
   ],
   "source": [
    "a"
   ]
  },
  {
   "cell_type": "markdown",
   "metadata": {},
   "source": [
    "While the maximum drawdown duration in days"
   ]
  },
  {
   "cell_type": "code",
   "execution_count": 48,
   "metadata": {},
   "outputs": [
    {
     "data": {
      "text/plain": [
       "119.0"
      ]
     },
     "execution_count": 48,
     "metadata": {},
     "output_type": "execute_result"
    }
   ],
   "source": [
    "b"
   ]
  }
 ],
 "metadata": {
  "kernelspec": {
   "display_name": "Python 3",
   "language": "python",
   "name": "python3"
  },
  "language_info": {
   "codemirror_mode": {
    "name": "ipython",
    "version": 3
   },
   "file_extension": ".py",
   "mimetype": "text/x-python",
   "name": "python",
   "nbconvert_exporter": "python",
   "pygments_lexer": "ipython3",
   "version": "3.7.1"
  }
 },
 "nbformat": 4,
 "nbformat_minor": 2
}
